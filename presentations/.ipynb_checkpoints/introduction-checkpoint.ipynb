{
 "cells": [
  {
   "cell_type": "markdown",
   "metadata": {
    "nbpresent": {
     "id": "3806ce45-738d-4404-ba33-c416c5ebc228"
    },
    "slideshow": {
     "slide_type": "-"
    }
   },
   "source": [
    "## Outline\n",
    "\n",
    "* Why study theoretical models?\n",
    "* What is sport economics?\n",
    "* Economic process\n",
    "* Map theory to observable outcomes\n",
    "* Primary sport economic agents\n",
    "* Primary sport economics assumptions\n",
    "* Primary sport economic concepts\n"
   ]
  },
  {
   "cell_type": "markdown",
   "metadata": {
    "slideshow": {
     "slide_type": "-"
    }
   },
   "source": [
    "## What is Sport Economics?\n",
    " \n",
    " * A study that examines sport using incentives and objective functions or tries to understand, explain, or predict choices in a sport context. \n",
    " * Sport economics applies the principles of microeconomics to sport.\n"
   ]
  },
  {
   "cell_type": "markdown",
   "metadata": {
    "collapsed": true,
    "slideshow": {
     "slide_type": "-"
    }
   },
   "source": [
    "## Importance of Sport Economics\n",
    "\n",
    "* Sport economics has a unique incentive structure relative to other industries\n",
    "* Allows for the testing to general economic phenomena, not easily undertaken in non-sport related environments\n",
    "* Few conflicting incentives allows for a friendly empirical environment to test hypotheses\n"
   ]
  },
  {
   "cell_type": "markdown",
   "metadata": {
    "slideshow": {
     "slide_type": "slide"
    }
   },
   "source": [
    "## Sport Economic Areas\n",
    "\n",
    "* Industrial Organization\n",
    " * Public Finance\n",
    "  * Labour Economics"
   ]
  },
  {
   "cell_type": "markdown",
   "metadata": {
    "slideshow": {
     "slide_type": "subslide"
    }
   },
   "source": [
    "## Sport Economic Areas\n",
    "\n",
    "* Industrial Organization\n",
    "\n",
    "* The study of firms and markets as they relate to employees, consumers. government, and, most importantly, each other\n",
    "* Example: competitors cooperate, market power, etc....\n",
    "\n",
    "* Public Finance\n",
    "\n",
    "* How governments provide goods and services and the way governments pay for them.\n",
    "* Example: stadium subsidies, franchise competition\n",
    "\n",
    "* Labour Economics\n",
    "\n",
    "* How labor markets determine the level of employment and salaries\n",
    "* Example: productivity, diversity, discrimination, etc..."
   ]
  },
  {
   "cell_type": "markdown",
   "metadata": {
    "slideshow": {
     "slide_type": "slide"
    }
   },
   "source": [
    "## Economic Models\n",
    "\n",
    "* If the model describes reality well, then it can predict the impact of various changes\n",
    "* Recommend policies to improve welfare\n",
    "\n",
    " "
   ]
  },
  {
   "cell_type": "markdown",
   "metadata": {
    "slideshow": {
     "slide_type": "subslide"
    }
   },
   "source": [
    "## Importance of Models\n",
    "\n",
    "* If the model describes reality well, then it can predict the impact of various changes\n",
    "* Recommend policies to improve welfare\n",
    "* Useful to model extreme situations\n"
   ]
  },
  {
   "cell_type": "markdown",
   "metadata": {
    "slideshow": {
     "slide_type": "slide"
    }
   },
   "source": [
    "## Positive and Normative Economics\n",
    "\n",
    "* Positive: \n",
    "\n",
    "* The study of economic phenomena from an objective viewpoint\n",
    "* The study of what  textsl{is\n",
    "\n",
    "* Normative\n",
    "\n",
    "* The study of economic phenomena from a subjective viewpoint\n",
    "* The study of  textsl{what ought to be\n",
    "\n",
    "* Normative perspective are more appropriate when the positive perspective is understood\n",
    "\n"
   ]
  },
  {
   "cell_type": "markdown",
   "metadata": {
    "slideshow": {
     "slide_type": "slide"
    }
   },
   "source": [
    "## Overview\n",
    "\n",
    "* Teams: revenue and costs\n",
    "* League: market conduct\n",
    "* Players: pay\n",
    "* Government: involvement "
   ]
  },
  {
   "cell_type": "code",
   "execution_count": null,
   "metadata": {
    "collapsed": true
   },
   "outputs": [],
   "source": []
  },
  {
   "cell_type": "code",
   "execution_count": null,
   "metadata": {
    "collapsed": true
   },
   "outputs": [],
   "source": []
  },
  {
   "cell_type": "code",
   "execution_count": null,
   "metadata": {
    "collapsed": true
   },
   "outputs": [],
   "source": []
  }
 ],
 "metadata": {
  "celltoolbar": "Slideshow",
  "kernelspec": {
   "display_name": "Python [default]",
   "language": "python",
   "name": "python2"
  },
  "language_info": {
   "codemirror_mode": {
    "name": "ipython",
    "version": 2
   },
   "file_extension": ".py",
   "mimetype": "text/x-python",
   "name": "python",
   "nbconvert_exporter": "python",
   "pygments_lexer": "ipython2",
   "version": "2.7.13"
  },
  "nbpresent": {
   "slides": {
    "2e93f06c-3bec-4a5e-bb58-c5a6d547b70b": {
     "id": "2e93f06c-3bec-4a5e-bb58-c5a6d547b70b",
     "prev": "f5532ef1-18fd-4774-b92f-92f7d333328b",
     "regions": {
      "064f4f17-38f2-416f-a381-87271db3a6ca": {
       "attrs": {
        "height": 0.8,
        "width": 0.8,
        "x": 0.1,
        "y": 0.1
       },
       "content": {
        "cell": "00b13f60-5b38-4785-91c3-a5bdf5e146b2",
        "part": "whole"
       },
       "id": "064f4f17-38f2-416f-a381-87271db3a6ca"
      }
     }
    },
    "46fef71d-4cda-47b0-8969-b8a75187943c": {
     "id": "46fef71d-4cda-47b0-8969-b8a75187943c",
     "prev": "2e93f06c-3bec-4a5e-bb58-c5a6d547b70b",
     "regions": {
      "75d4843f-03e9-4638-b35a-ca1b866abcb3": {
       "attrs": {
        "height": 0.8,
        "width": 0.8,
        "x": 0.1,
        "y": 0.1
       },
       "content": {
        "cell": "8c6a3de5-0ac1-4a9b-ab46-6340a15a5bff",
        "part": "whole"
       },
       "id": "75d4843f-03e9-4638-b35a-ca1b866abcb3"
      }
     }
    },
    "8c8914b0-5c5f-4467-a8e6-621c8d378de0": {
     "id": "8c8914b0-5c5f-4467-a8e6-621c8d378de0",
     "prev": "46fef71d-4cda-47b0-8969-b8a75187943c",
     "regions": {
      "4c898a43-ef59-4855-a6b9-d0e7e91b5f0a": {
       "attrs": {
        "height": 0.8,
        "width": 0.8,
        "x": 0.1,
        "y": 0.1
       },
       "content": {
        "cell": "0dc1dab7-b700-4276-acc5-3aec32fa3484",
        "part": "whole"
       },
       "id": "4c898a43-ef59-4855-a6b9-d0e7e91b5f0a"
      }
     }
    },
    "f5532ef1-18fd-4774-b92f-92f7d333328b": {
     "id": "f5532ef1-18fd-4774-b92f-92f7d333328b",
     "layout": "grid",
     "prev": null,
     "regions": {
      "5bba0efd-fa8a-43ba-9509-89d9953220eb": {
       "attrs": {
        "height": 0.8333333333333334,
        "pad": 0.01,
        "width": 0.8333333333333334,
        "x": 0.08333333333333333,
        "y": 0.08333333333333333
       },
       "content": {
        "cell": "3806ce45-738d-4404-ba33-c416c5ebc228",
        "part": "whole"
       },
       "id": "5bba0efd-fa8a-43ba-9509-89d9953220eb"
      }
     }
    }
   },
   "themes": {}
  }
 },
 "nbformat": 4,
 "nbformat_minor": 2
}
