{
 "cells": [
  {
   "cell_type": "markdown",
   "metadata": {
    "nbpresent": {
     "id": "3806ce45-738d-4404-ba33-c416c5ebc228"
    },
    "slideshow": {
     "slide_type": "slide"
    }
   },
   "source": [
    "## Outline\n",
    "\n",
    "* Why study theoretical models?\n",
    "* What is sport economics?\n",
    "* Economic process\n",
    "* Map theory to observable outcomes\n",
    "* Primary sport economic agents\n",
    "* Primary sport economics assumptions\n",
    "* Primary sport economic concepts\n"
   ]
  },
  {
   "cell_type": "markdown",
   "metadata": {
    "nbpresent": {
     "id": "cfd22d3c-bacd-4f7d-b3e6-216572081030"
    },
    "slideshow": {
     "slide_type": "slide"
    }
   },
   "source": [
    "## What is Sport Economics?\n",
    " \n",
    " * A study that examines sport using incentives and objective functions or tries to understand, explain, or predict choices in a sport context. \n",
    " * Sport economics applies the principles of microeconomics to sport.\n"
   ]
  },
  {
   "cell_type": "markdown",
   "metadata": {
    "collapsed": true,
    "nbpresent": {
     "id": "af305fba-0b88-4220-86a1-7da9a02fe935"
    },
    "slideshow": {
     "slide_type": "slide"
    }
   },
   "source": [
    "## Importance of Sport Economics\n",
    "\n",
    "* Sport economics has a unique incentive structure relative to other industries\n",
    "* Allows for the testing to general economic phenomena, not easily undertaken in non-sport related environments\n",
    "* Few conflicting incentives allows for a friendly empirical environment to test hypotheses\n"
   ]
  },
  {
   "cell_type": "markdown",
   "metadata": {
    "nbpresent": {
     "id": "e5fcc3bf-00ad-45f1-9637-90ff246b5291"
    },
    "slideshow": {
     "slide_type": "slide"
    }
   },
   "source": [
    "## Sport Economic Areas\n",
    "\n",
    "* Industrial Organization\n",
    "* Public Finance\n",
    "* Labour Economics"
   ]
  },
  {
   "cell_type": "markdown",
   "metadata": {
    "nbpresent": {
     "id": "e9b74c67-f366-43c3-a618-2dfbf0526f65"
    },
    "slideshow": {
     "slide_type": "subslide"
    }
   },
   "source": [
    "## Sport Economic Areas\n",
    "\n",
    "* Industrial Organization\n",
    "    * The study of firms and markets as they relate to employees, consumers. government, and, most importantly, each other\n",
    "    * Example: competitors cooperate, market power, etc....\n",
    "* Public Finance\n",
    "    * How governments provide goods and services and the way governments pay for them.\n",
    "    * Example: stadium subsidies, franchise competition\n",
    "* Labour Economics\n",
    "    * How labor markets determine the level of employment and salaries\n",
    "    * Example: productivity, diversity, discrimination, etc..."
   ]
  },
  {
   "cell_type": "markdown",
   "metadata": {
    "nbpresent": {
     "id": "80f78a02-d1f1-452c-b5c9-538758a08504"
    },
    "slideshow": {
     "slide_type": "slide"
    }
   },
   "source": [
    "## Economic Models\n",
    "\n",
    "* If the model describes reality well, then it can predict the impact of various changes\n",
    "* Recommend policies to improve welfare\n",
    "\n",
    " "
   ]
  },
  {
   "cell_type": "markdown",
   "metadata": {
    "nbpresent": {
     "id": "f3bbf045-a5e6-42c7-94f1-620860425761"
    },
    "slideshow": {
     "slide_type": "slide"
    }
   },
   "source": [
    "## Importance of Models\n",
    "\n",
    "* If the model describes reality well, then it can predict the impact of various changes\n",
    "* Recommend policies to improve welfare\n",
    "* Useful to model extreme situations\n"
   ]
  },
  {
   "cell_type": "markdown",
   "metadata": {
    "nbpresent": {
     "id": "1f59262c-bef5-4c83-bbb2-190de6e256d0"
    },
    "slideshow": {
     "slide_type": "slide"
    }
   },
   "source": [
    "## Positive and Normative Economics\n",
    "\n",
    "* Positive: \n",
    "    * The study of economic phenomena from an objective viewpoint\n",
    "    * The study of what  textsl{is\n",
    "* Normative\n",
    "    * The study of economic phenomena from a subjective viewpoint\n",
    "    * The study of  textsl{what ought to be\n",
    "\n",
    "* Normative perspective are more appropriate when the positive perspective is understood\n",
    "\n"
   ]
  },
  {
   "cell_type": "markdown",
   "metadata": {
    "nbpresent": {
     "id": "df6b79e3-b3d4-4f16-a17f-ce66a887d0a2"
    },
    "slideshow": {
     "slide_type": "slide"
    }
   },
   "source": [
    "## Overview\n",
    "\n",
    "* Teams: revenue and costs\n",
    "* League: market conduct\n",
    "* Players: pay\n",
    "* Government: involvement "
   ]
  }
 ],
 "metadata": {
  "celltoolbar": "Slideshow",
  "kernelspec": {
   "display_name": "Python [default]",
   "language": "python",
   "name": "python2"
  },
  "language_info": {
   "codemirror_mode": {
    "name": "ipython",
    "version": 2
   },
   "file_extension": ".py",
   "mimetype": "text/x-python",
   "name": "python",
   "nbconvert_exporter": "python",
   "pygments_lexer": "ipython2",
   "version": "2.7.13"
  },
  "nbpresent": {
   "slides": {
    "1351a0f1-65c3-4951-a364-01109bd81749": {
     "id": "1351a0f1-65c3-4951-a364-01109bd81749",
     "prev": "db1d61cc-3201-4a75-8fd5-04885204cfc4",
     "regions": {
      "bfc5a2be-c2cc-4a0f-9e54-5ca05c45f339": {
       "attrs": {
        "height": 0.8,
        "width": 0.8,
        "x": 0.1,
        "y": 0.1
       },
       "content": {
        "cell": "80f78a02-d1f1-452c-b5c9-538758a08504",
        "part": "whole"
       },
       "id": "bfc5a2be-c2cc-4a0f-9e54-5ca05c45f339"
      }
     }
    },
    "3666cf7e-d40a-453a-9e45-cab9053053f6": {
     "id": "3666cf7e-d40a-453a-9e45-cab9053053f6",
     "prev": "dbc5b4de-dc24-4376-b1ef-0a488cf79736",
     "regions": {
      "2a71f6b7-b250-4815-9084-114e0930a499": {
       "attrs": {
        "height": 0.8,
        "width": 0.8,
        "x": 0.1,
        "y": 0.1
       },
       "content": {
        "cell": "a2dcf4e9-fdb2-4481-94e8-ddff48050f08",
        "part": "whole"
       },
       "id": "2a71f6b7-b250-4815-9084-114e0930a499"
      }
     }
    },
    "48f73848-4005-43e7-8ce3-81c263294d6c": {
     "id": "48f73848-4005-43e7-8ce3-81c263294d6c",
     "prev": "c31b69df-7297-4b40-80a4-149b9a88365b",
     "regions": {
      "0465f9e5-0869-4b9b-9aed-72e66e523219": {
       "attrs": {
        "height": 0.8,
        "width": 0.8,
        "x": 0.1,
        "y": 0.1
       },
       "content": {
        "cell": "1f59262c-bef5-4c83-bbb2-190de6e256d0",
        "part": "whole"
       },
       "id": "0465f9e5-0869-4b9b-9aed-72e66e523219"
      }
     }
    },
    "5483626c-1979-4412-8ab4-598a0e5d283d": {
     "id": "5483626c-1979-4412-8ab4-598a0e5d283d",
     "prev": "c75f3bb4-9d60-4dc4-bf34-4030d4599f79",
     "regions": {
      "581890a1-ed83-4fa4-9ecf-dcb2e0d592f1": {
       "attrs": {
        "height": 0.8,
        "width": 0.8,
        "x": 0.1,
        "y": 0.1
       },
       "content": {
        "cell": "cfd22d3c-bacd-4f7d-b3e6-216572081030",
        "part": "whole"
       },
       "id": "581890a1-ed83-4fa4-9ecf-dcb2e0d592f1"
      }
     }
    },
    "9f679b93-3385-4923-a2de-d71ff5dda188": {
     "id": "9f679b93-3385-4923-a2de-d71ff5dda188",
     "prev": "f2f53a5c-bb03-4673-a9bd-cb9910aae44f",
     "regions": {
      "ace5fb77-587f-43e0-85a3-0bb7c705a486": {
       "attrs": {
        "height": 0.8,
        "width": 0.8,
        "x": 0.1,
        "y": 0.1
       },
       "content": {
        "cell": "e5fcc3bf-00ad-45f1-9637-90ff246b5291",
        "part": "whole"
       },
       "id": "ace5fb77-587f-43e0-85a3-0bb7c705a486"
      }
     }
    },
    "c31b69df-7297-4b40-80a4-149b9a88365b": {
     "id": "c31b69df-7297-4b40-80a4-149b9a88365b",
     "prev": "1351a0f1-65c3-4951-a364-01109bd81749",
     "regions": {
      "9a2cb403-951a-4ef7-b3f3-8e1e440fc2f5": {
       "attrs": {
        "height": 0.8,
        "width": 0.8,
        "x": 0.1,
        "y": 0.1
       },
       "content": {
        "cell": "f3bbf045-a5e6-42c7-94f1-620860425761",
        "part": "whole"
       },
       "id": "9a2cb403-951a-4ef7-b3f3-8e1e440fc2f5"
      }
     }
    },
    "c75f3bb4-9d60-4dc4-bf34-4030d4599f79": {
     "id": "c75f3bb4-9d60-4dc4-bf34-4030d4599f79",
     "prev": null,
     "regions": {
      "b238fa6a-0922-424a-9adf-939d566e4ecb": {
       "attrs": {
        "height": 0.8,
        "width": 0.8,
        "x": 0.1,
        "y": 0.1
       },
       "content": {
        "cell": "3806ce45-738d-4404-ba33-c416c5ebc228",
        "part": "whole"
       },
       "id": "b238fa6a-0922-424a-9adf-939d566e4ecb"
      }
     },
     "theme": null
    },
    "db1d61cc-3201-4a75-8fd5-04885204cfc4": {
     "id": "db1d61cc-3201-4a75-8fd5-04885204cfc4",
     "prev": "9f679b93-3385-4923-a2de-d71ff5dda188",
     "regions": {
      "7fbe7dd9-7648-4249-8f8e-54ee99937aa4": {
       "attrs": {
        "height": 0.8,
        "width": 0.8,
        "x": 0.1,
        "y": 0.1
       },
       "content": {
        "cell": "e9b74c67-f366-43c3-a618-2dfbf0526f65",
        "part": "whole"
       },
       "id": "7fbe7dd9-7648-4249-8f8e-54ee99937aa4"
      }
     }
    },
    "dbc5b4de-dc24-4376-b1ef-0a488cf79736": {
     "id": "dbc5b4de-dc24-4376-b1ef-0a488cf79736",
     "prev": "48f73848-4005-43e7-8ce3-81c263294d6c",
     "regions": {
      "317f4788-5cea-4057-a19b-2dbac2044689": {
       "attrs": {
        "height": 0.8,
        "width": 0.8,
        "x": 0.1,
        "y": 0.1
       },
       "content": {
        "cell": "df6b79e3-b3d4-4f16-a17f-ce66a887d0a2",
        "part": "whole"
       },
       "id": "317f4788-5cea-4057-a19b-2dbac2044689"
      }
     }
    },
    "f2f53a5c-bb03-4673-a9bd-cb9910aae44f": {
     "id": "f2f53a5c-bb03-4673-a9bd-cb9910aae44f",
     "prev": "5483626c-1979-4412-8ab4-598a0e5d283d",
     "regions": {
      "c3dab6a3-272e-4c7f-9ca4-65c70ca28792": {
       "attrs": {
        "height": 0.8,
        "width": 0.8,
        "x": 0.1,
        "y": 0.1
       },
       "content": {
        "cell": "af305fba-0b88-4220-86a1-7da9a02fe935",
        "part": "whole"
       },
       "id": "c3dab6a3-272e-4c7f-9ca4-65c70ca28792"
      }
     }
    }
   },
   "themes": {
    "default": "df1a32b2-a2a8-435d-8c36-3aebe300b35a",
    "theme": {
     "df1a32b2-a2a8-435d-8c36-3aebe300b35a": {
      "backgrounds": {
       "backgroundColor": {
        "background-color": "backgroundColor",
        "id": "backgroundColor"
       }
      },
      "id": "df1a32b2-a2a8-435d-8c36-3aebe300b35a",
      "palette": {
       "backgroundColor": {
        "id": "backgroundColor",
        "rgb": [
         256,
         256,
         256
        ]
       },
       "headingColor": {
        "id": "headingColor",
        "rgb": [
         0,
         0,
         0
        ]
       },
       "linkColor": {
        "id": "linkColor",
        "rgb": [
         0,
         0,
         139
        ]
       },
       "mainColor": {
        "id": "mainColor",
        "rgb": [
         0,
         0,
         0
        ]
       }
      },
      "rules": {
       "a": {
        "color": "linkColor"
       },
       "h1": {
        "color": "headingColor",
        "font-family": "News Cycle",
        "font-size": 7
       },
       "h2": {
        "color": "headingColor",
        "font-family": "News Cycle",
        "font-size": 5
       },
       "h3": {
        "color": "headingColor",
        "font-family": "News Cycle",
        "font-size": 3.75
       },
       "h4": {
        "color": "headingColor",
        "font-family": "News Cycle",
        "font-size": 3
       },
       "h5": {
        "color": "headingColor",
        "font-family": "News Cycle"
       },
       "h6": {
        "color": "headingColor",
        "font-family": "News Cycle"
       },
       "h7": {
        "color": "headingColor",
        "font-family": "News Cycle"
       },
       "li": {
        "color": "mainColor",
        "font-family": "Lato",
        "font-size": 5
       },
       "p": {
        "color": "mainColor",
        "font-family": "Lato",
        "font-size": 5
       }
      },
      "text-base": {
       "color": "mainColor",
       "font-family": "Lato",
       "font-size": 5
      }
     }
    }
   }
  }
 },
 "nbformat": 4,
 "nbformat_minor": 2
}
